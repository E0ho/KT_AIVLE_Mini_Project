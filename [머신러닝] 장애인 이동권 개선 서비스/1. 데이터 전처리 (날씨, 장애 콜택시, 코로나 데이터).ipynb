{
 "cells": [
  {
   "cell_type": "markdown",
   "metadata": {
    "id": "qsIsGzftJuH9"
   },
   "source": [
    "# 미니 프로젝트: 장애인 콜택시 대기시간 예측 모델 개발\n",
    "> 일기 예보에 따라 장애인 콜택시 대기 시간을 예측하는 모델을 개발하여 장애인 이동권 개선"
   ]
  },
  {
   "cell_type": "markdown",
   "metadata": {
    "tags": []
   },
   "source": [
    "<img src = \"https://www.sisul.or.kr/open_content/calltaxi/images/visual_img.jpg\"/>"
   ]
  },
  {
   "cell_type": "code",
   "execution_count": 1,
   "metadata": {
    "tags": []
   },
   "outputs": [],
   "source": [
    "# pandas == 1.5.3\n",
    "# numpy == 1.22.4\n",
    "# matplotlib == 3.7.1\n",
    "# seaborn == 0.12.2\n",
    "# xgboost == 1.7.5"
   ]
  },
  {
   "cell_type": "markdown",
   "metadata": {
    "tags": []
   },
   "source": [
    "## 단계 1. 데이터 전처리"
   ]
  },
  {
   "cell_type": "code",
   "execution_count": 2,
   "metadata": {
    "executionInfo": {
     "elapsed": 1587,
     "status": "ok",
     "timestamp": 1682642920627,
     "user": {
      "displayName": "한기영",
      "userId": "13049187003176135487"
     },
     "user_tz": -540
    },
    "id": "QF5vlqOJzyvV",
    "tags": []
   },
   "outputs": [],
   "source": [
    "# 라이브러리 로딩\n",
    "import pandas as pd\n",
    "import numpy as np\n",
    "import joblib"
   ]
  },
  {
   "cell_type": "markdown",
   "metadata": {
    "id": "wsLDv9tZc_i1"
   },
   "source": [
    "### (1) 데이터셋 불러오기\n",
    "- 장애인 콜택시 운행 정보 : open_data.csv\n",
    "- 날씨 데이터 : weather.csv"
   ]
  },
  {
   "cell_type": "code",
   "execution_count": 3,
   "metadata": {
    "executionInfo": {
     "elapsed": 9,
     "status": "ok",
     "timestamp": 1682642921546,
     "user": {
      "displayName": "한기영",
      "userId": "13049187003176135487"
     },
     "user_tz": -540
    },
    "id": "FT_JFnclfcQ4",
    "tags": []
   },
   "outputs": [],
   "source": [
    "taxi = pd.read_csv('Dataset/open_data.csv')\n",
    "weather = pd.read_csv('Dataset/weather.csv')"
   ]
  },
  {
   "cell_type": "markdown",
   "metadata": {
    "id": "ueRYWzcto1x8",
    "tags": []
   },
   "source": [
    "### (2) Meta 정보 분석"
   ]
  },
  {
   "cell_type": "code",
   "execution_count": 4,
   "metadata": {
    "tags": []
   },
   "outputs": [
    {
     "data": {
      "text/html": [
       "<div>\n",
       "<style scoped>\n",
       "    .dataframe tbody tr th:only-of-type {\n",
       "        vertical-align: middle;\n",
       "    }\n",
       "\n",
       "    .dataframe tbody tr th {\n",
       "        vertical-align: top;\n",
       "    }\n",
       "\n",
       "    .dataframe thead th {\n",
       "        text-align: right;\n",
       "    }\n",
       "</style>\n",
       "<table border=\"1\" class=\"dataframe\">\n",
       "  <thead>\n",
       "    <tr style=\"text-align: right;\">\n",
       "      <th></th>\n",
       "      <th>기준일</th>\n",
       "      <th>차량운행</th>\n",
       "      <th>접수건</th>\n",
       "      <th>탑승건</th>\n",
       "      <th>평균대기시간</th>\n",
       "      <th>평균요금</th>\n",
       "      <th>평균승차거리</th>\n",
       "    </tr>\n",
       "  </thead>\n",
       "  <tbody>\n",
       "    <tr>\n",
       "      <th>0</th>\n",
       "      <td>2015-01-01</td>\n",
       "      <td>213</td>\n",
       "      <td>1023</td>\n",
       "      <td>924</td>\n",
       "      <td>23.2</td>\n",
       "      <td>2427</td>\n",
       "      <td>10764</td>\n",
       "    </tr>\n",
       "    <tr>\n",
       "      <th>1</th>\n",
       "      <td>2015-01-02</td>\n",
       "      <td>420</td>\n",
       "      <td>3158</td>\n",
       "      <td>2839</td>\n",
       "      <td>17.2</td>\n",
       "      <td>2216</td>\n",
       "      <td>8611</td>\n",
       "    </tr>\n",
       "    <tr>\n",
       "      <th>2</th>\n",
       "      <td>2015-01-03</td>\n",
       "      <td>209</td>\n",
       "      <td>1648</td>\n",
       "      <td>1514</td>\n",
       "      <td>26.2</td>\n",
       "      <td>2377</td>\n",
       "      <td>10198</td>\n",
       "    </tr>\n",
       "    <tr>\n",
       "      <th>3</th>\n",
       "      <td>2015-01-04</td>\n",
       "      <td>196</td>\n",
       "      <td>1646</td>\n",
       "      <td>1526</td>\n",
       "      <td>24.5</td>\n",
       "      <td>2431</td>\n",
       "      <td>10955</td>\n",
       "    </tr>\n",
       "    <tr>\n",
       "      <th>4</th>\n",
       "      <td>2015-01-05</td>\n",
       "      <td>421</td>\n",
       "      <td>4250</td>\n",
       "      <td>3730</td>\n",
       "      <td>26.2</td>\n",
       "      <td>2214</td>\n",
       "      <td>8663</td>\n",
       "    </tr>\n",
       "  </tbody>\n",
       "</table>\n",
       "</div>"
      ],
      "text/plain": [
       "          기준일  차량운행   접수건   탑승건  평균대기시간  평균요금  평균승차거리\n",
       "0  2015-01-01   213  1023   924    23.2  2427   10764\n",
       "1  2015-01-02   420  3158  2839    17.2  2216    8611\n",
       "2  2015-01-03   209  1648  1514    26.2  2377   10198\n",
       "3  2015-01-04   196  1646  1526    24.5  2431   10955\n",
       "4  2015-01-05   421  4250  3730    26.2  2214    8663"
      ]
     },
     "metadata": {},
     "output_type": "display_data"
    },
    {
     "name": "stdout",
     "output_type": "stream",
     "text": [
      "\n",
      "------------------------------\n",
      "\n"
     ]
    },
    {
     "data": {
      "text/html": [
       "<div>\n",
       "<style scoped>\n",
       "    .dataframe tbody tr th:only-of-type {\n",
       "        vertical-align: middle;\n",
       "    }\n",
       "\n",
       "    .dataframe tbody tr th {\n",
       "        vertical-align: top;\n",
       "    }\n",
       "\n",
       "    .dataframe thead th {\n",
       "        text-align: right;\n",
       "    }\n",
       "</style>\n",
       "<table border=\"1\" class=\"dataframe\">\n",
       "  <thead>\n",
       "    <tr style=\"text-align: right;\">\n",
       "      <th></th>\n",
       "      <th>Date</th>\n",
       "      <th>temp_max</th>\n",
       "      <th>temp_min</th>\n",
       "      <th>rain(mm)</th>\n",
       "      <th>humidity_max(%)</th>\n",
       "      <th>humidity_min(%)</th>\n",
       "      <th>sunshine(MJ/m2)</th>\n",
       "    </tr>\n",
       "  </thead>\n",
       "  <tbody>\n",
       "    <tr>\n",
       "      <th>0</th>\n",
       "      <td>2012-01-01</td>\n",
       "      <td>0.4</td>\n",
       "      <td>-6.6</td>\n",
       "      <td>0.0</td>\n",
       "      <td>77.0</td>\n",
       "      <td>45.0</td>\n",
       "      <td>4.90</td>\n",
       "    </tr>\n",
       "    <tr>\n",
       "      <th>1</th>\n",
       "      <td>2012-01-02</td>\n",
       "      <td>-1.2</td>\n",
       "      <td>-8.3</td>\n",
       "      <td>0.0</td>\n",
       "      <td>80.0</td>\n",
       "      <td>48.0</td>\n",
       "      <td>6.16</td>\n",
       "    </tr>\n",
       "    <tr>\n",
       "      <th>2</th>\n",
       "      <td>2012-01-03</td>\n",
       "      <td>-0.4</td>\n",
       "      <td>-6.6</td>\n",
       "      <td>0.4</td>\n",
       "      <td>86.0</td>\n",
       "      <td>45.0</td>\n",
       "      <td>4.46</td>\n",
       "    </tr>\n",
       "    <tr>\n",
       "      <th>3</th>\n",
       "      <td>2012-01-04</td>\n",
       "      <td>-4.6</td>\n",
       "      <td>-9.5</td>\n",
       "      <td>0.0</td>\n",
       "      <td>66.0</td>\n",
       "      <td>38.0</td>\n",
       "      <td>8.05</td>\n",
       "    </tr>\n",
       "    <tr>\n",
       "      <th>4</th>\n",
       "      <td>2012-01-05</td>\n",
       "      <td>-1.4</td>\n",
       "      <td>-9.6</td>\n",
       "      <td>0.0</td>\n",
       "      <td>71.0</td>\n",
       "      <td>28.0</td>\n",
       "      <td>9.14</td>\n",
       "    </tr>\n",
       "  </tbody>\n",
       "</table>\n",
       "</div>"
      ],
      "text/plain": [
       "         Date  temp_max  temp_min  rain(mm)  humidity_max(%)  humidity_min(%)  \\\n",
       "0  2012-01-01       0.4      -6.6       0.0             77.0             45.0   \n",
       "1  2012-01-02      -1.2      -8.3       0.0             80.0             48.0   \n",
       "2  2012-01-03      -0.4      -6.6       0.4             86.0             45.0   \n",
       "3  2012-01-04      -4.6      -9.5       0.0             66.0             38.0   \n",
       "4  2012-01-05      -1.4      -9.6       0.0             71.0             28.0   \n",
       "\n",
       "   sunshine(MJ/m2)  \n",
       "0             4.90  \n",
       "1             6.16  \n",
       "2             4.46  \n",
       "3             8.05  \n",
       "4             9.14  "
      ]
     },
     "metadata": {},
     "output_type": "display_data"
    }
   ],
   "source": [
    "# 데이터 확인\n",
    "display(taxi.head())\n",
    "print()\n",
    "print('-' * 30)\n",
    "print()\n",
    "display(weather.head())"
   ]
  },
  {
   "cell_type": "code",
   "execution_count": 5,
   "metadata": {
    "colab": {
     "base_uri": "https://localhost:8080/"
    },
    "executionInfo": {
     "elapsed": 529,
     "status": "ok",
     "timestamp": 1682643014155,
     "user": {
      "displayName": "한기영",
      "userId": "13049187003176135487"
     },
     "user_tz": -540
    },
    "id": "ohfA--UBxczp",
    "outputId": "b12a7804-c1ae-4826-9c32-875f2eb36e47",
    "tags": []
   },
   "outputs": [
    {
     "name": "stdout",
     "output_type": "stream",
     "text": [
      "Taxi Dataset: (2922, 7)\n",
      "Weather Dataset: (4018, 7)\n"
     ]
    }
   ],
   "source": [
    "# 데이터 Sample, Feature 개수 확인\n",
    "print('Taxi Dataset:', taxi.shape)\n",
    "print('Weather Dataset:', weather.shape)"
   ]
  },
  {
   "cell_type": "code",
   "execution_count": 6,
   "metadata": {
    "tags": []
   },
   "outputs": [
    {
     "name": "stdout",
     "output_type": "stream",
     "text": [
      "<class 'pandas.core.frame.DataFrame'>\n",
      "RangeIndex: 2922 entries, 0 to 2921\n",
      "Data columns (total 7 columns):\n",
      " #   Column  Non-Null Count  Dtype  \n",
      "---  ------  --------------  -----  \n",
      " 0   기준일     2922 non-null   object \n",
      " 1   차량운행    2922 non-null   int64  \n",
      " 2   접수건     2922 non-null   int64  \n",
      " 3   탑승건     2922 non-null   int64  \n",
      " 4   평균대기시간  2922 non-null   float64\n",
      " 5   평균요금    2922 non-null   int64  \n",
      " 6   평균승차거리  2922 non-null   int64  \n",
      "dtypes: float64(1), int64(5), object(1)\n",
      "memory usage: 159.9+ KB\n",
      "\n",
      "------------------------------\n",
      "\n",
      "<class 'pandas.core.frame.DataFrame'>\n",
      "RangeIndex: 4018 entries, 0 to 4017\n",
      "Data columns (total 7 columns):\n",
      " #   Column           Non-Null Count  Dtype  \n",
      "---  ------           --------------  -----  \n",
      " 0   Date             4018 non-null   object \n",
      " 1   temp_max         4018 non-null   float64\n",
      " 2   temp_min         4018 non-null   float64\n",
      " 3   rain(mm)         4018 non-null   float64\n",
      " 4   humidity_max(%)  4018 non-null   float64\n",
      " 5   humidity_min(%)  4018 non-null   float64\n",
      " 6   sunshine(MJ/m2)  4018 non-null   float64\n",
      "dtypes: float64(6), object(1)\n",
      "memory usage: 219.9+ KB\n"
     ]
    }
   ],
   "source": [
    "# Meta 정보 확인\n",
    "taxi.info()\n",
    "print()\n",
    "print('-' * 30)\n",
    "print()\n",
    "weather.info()"
   ]
  },
  {
   "cell_type": "markdown",
   "metadata": {
    "id": "n0VtxEINgi2V"
   },
   "source": [
    "### (3) 데이터셋 병합\n",
    "- (택시 데이터셋 + 날씨 데이터셋) 병합"
   ]
  },
  {
   "cell_type": "code",
   "execution_count": 7,
   "metadata": {
    "colab": {
     "base_uri": "https://localhost:8080/",
     "height": 423
    },
    "executionInfo": {
     "elapsed": 28,
     "status": "ok",
     "timestamp": 1682643014158,
     "user": {
      "displayName": "한기영",
      "userId": "13049187003176135487"
     },
     "user_tz": -540
    },
    "id": "Az4HVmSagn0I",
    "outputId": "14a9e7b6-75c2-48de-c5af-066d3bf5a035",
    "tags": []
   },
   "outputs": [],
   "source": [
    "# 두 데이터셋을 Merge 하기 위해 변수명을 영어로 통일\n",
    "taxi.rename(columns = {'기준일' : 'Date',\n",
    "                       '차량운행': 'vehicle_cnt',\n",
    "                       '접수건': 'reg_cnt',\n",
    "                       '탑승건' : 'ride_cnt',\n",
    "                       '평균대기시간' : 'average_wait_time',\n",
    "                       '평균요금' : 'average_fare',\n",
    "                       '평균승차거리' : 'average_dist'}, inplace = True)"
   ]
  },
  {
   "cell_type": "code",
   "execution_count": 8,
   "metadata": {
    "tags": []
   },
   "outputs": [],
   "source": [
    "df = pd.merge(taxi, weather, on='Date')"
   ]
  },
  {
   "cell_type": "markdown",
   "metadata": {},
   "source": [
    "### (4) New Feature 생성\n",
    "- 새로운 시각에서 데이터를 분석하기위해 Feature 생성"
   ]
  },
  {
   "cell_type": "markdown",
   "metadata": {},
   "source": [
    "#### 날짜 관련 Feature\n",
    "- 월, 년, 요일, 계절과 대시시간 분석을 위해 새로운 Feature 추가"
   ]
  },
  {
   "cell_type": "code",
   "execution_count": 9,
   "metadata": {
    "tags": []
   },
   "outputs": [],
   "source": [
    "# 날짜 Type 변수 형변환\n",
    "df['Date'] = pd.to_datetime(df['Date'])"
   ]
  },
  {
   "cell_type": "code",
   "execution_count": 10,
   "metadata": {
    "tags": []
   },
   "outputs": [],
   "source": [
    "# 월\n",
    "df['month'] = df['Date'].dt.month\n",
    "\n",
    "# 년\n",
    "df['year'] = df['Date'].dt.year\n",
    "\n",
    "# 요일\n",
    "df['weekday'] = df['Date'].dt.day_name()\n",
    "df['weekday'] = pd.Categorical(df['weekday'], categories=['Monday','Tuesday','Wednesday','Thursday','Friday','Saturday','Sunday'])\n",
    "\n",
    "# 계절\n",
    "df['season'] = np.where(df['month'].isin([3,4,5]), 'Spring',\n",
    "                        np.where(df['month'].isin([6,7,8]), 'Summer',\n",
    "                                    np.where(df['month'].isin([9,10,11]), 'Fall', 'Winter')))\n",
    "df['season'] = pd.Categorical(df['season'], categories=['Spring','Summer','Fall','Winter'])"
   ]
  },
  {
   "cell_type": "markdown",
   "metadata": {},
   "source": [
    "#### 주말 Feature"
   ]
  },
  {
   "cell_type": "code",
   "execution_count": 11,
   "metadata": {
    "tags": []
   },
   "outputs": [],
   "source": [
    "df['week'] = np.where(df['weekday'].isin(['Saturday','Sunday']), 1, 0)"
   ]
  },
  {
   "cell_type": "markdown",
   "metadata": {
    "tags": []
   },
   "source": [
    "#### 공휴일 Feature\n",
    "- 공휴일이 콜택시 대기시간에 영향을 미칠 수 있다 생각하여 코로나 데이터셋을 추가하여 새로운 Feature 추가"
   ]
  },
  {
   "cell_type": "code",
   "execution_count": 12,
   "metadata": {},
   "outputs": [],
   "source": [
    "# !pip install workalendar"
   ]
  },
  {
   "cell_type": "code",
   "execution_count": 13,
   "metadata": {
    "tags": []
   },
   "outputs": [],
   "source": [
    "from workalendar.asia import SouthKorea\n",
    "\n",
    "# 공휴일 정보 가져오기\n",
    "cal = SouthKorea()\n",
    "holiday_df = pd.DataFrame()\n",
    "\n",
    "# 공휴일 DataFrame 생성\n",
    "for year in range(2015, 2023):\n",
    "    \n",
    "    holiday_list = cal.holidays(year)\n",
    "    holiday_df = pd.concat([holiday_df, pd.DataFrame(holiday_list)], axis=0)\n",
    "    \n",
    "\n",
    "holiday_df.columns = ['Date', 'holiday']\n",
    "holiday_df['Date'] = pd.to_datetime(holiday_df['Date'])\n",
    "holiday_df['holiday'] = \"Yes\""
   ]
  },
  {
   "cell_type": "code",
   "execution_count": 14,
   "metadata": {
    "tags": []
   },
   "outputs": [],
   "source": [
    "df = pd.merge(df, holiday_df, how = 'left')\n",
    "df['holiday'] = df['holiday'].fillna(\"No\")"
   ]
  },
  {
   "cell_type": "markdown",
   "metadata": {},
   "source": [
    "#### Covid Feature\n",
    "- 코로나가 콜택시 대기시간에 영향을 미칠 수 있다 생각하여 코로나 데이터셋 추가하여 새로운 Feature 추가"
   ]
  },
  {
   "cell_type": "code",
   "execution_count": 15,
   "metadata": {
    "tags": []
   },
   "outputs": [],
   "source": [
    "covid = pd.read_csv('Dataset/covid19.csv')\n",
    "covid.columns = ['Date', 'covid_sum']\n",
    "covid['Date'] = pd.to_datetime(covid['Date'])\n",
    "\n",
    "df = pd.merge(df, covid, how = 'left')\n",
    "df['covid_sum'] = df['covid_sum'].fillna(0)"
   ]
  },
  {
   "cell_type": "markdown",
   "metadata": {
    "id": "vYhLUoRxRSEQ",
    "tags": []
   },
   "source": [
    "#### 주 평균 대기시간 Feature"
   ]
  },
  {
   "cell_type": "code",
   "execution_count": 16,
   "metadata": {
    "colab": {
     "base_uri": "https://localhost:8080/",
     "height": 661
    },
    "executionInfo": {
     "elapsed": 31,
     "status": "ok",
     "timestamp": 1682643029613,
     "user": {
      "displayName": "한기영",
      "userId": "13049187003176135487"
     },
     "user_tz": -540
    },
    "id": "9fk23rt6dK53",
    "outputId": "0af2f175-e802-4e29-8ad2-03c662273d5a"
   },
   "outputs": [],
   "source": [
    "# 주 평균 대기시간 (rolling -> 7)\n",
    "df['week_average_wait_time'] = df[['average_wait_time']].rolling(window=7).mean()\n",
    "df['week_average_wait_time'] = df['week_average_wait_time'].fillna(df['week_average_wait_time'].mean())  # 누락 값 평균 값"
   ]
  },
  {
   "cell_type": "markdown",
   "metadata": {
    "id": "eMZJxlaReHZW",
    "tags": []
   },
   "source": [
    "#### 탑승률 Feature\n",
    "- 탑승률과 대기시간이 상관관계가 있을것이라 판단하여 Feature 추가"
   ]
  },
  {
   "cell_type": "code",
   "execution_count": 17,
   "metadata": {
    "colab": {
     "base_uri": "https://localhost:8080/",
     "height": 661
    },
    "executionInfo": {
     "elapsed": 29,
     "status": "ok",
     "timestamp": 1682643029613,
     "user": {
      "displayName": "한기영",
      "userId": "13049187003176135487"
     },
     "user_tz": -540
    },
    "id": "BchF6jZTeMXJ",
    "outputId": "efd902a7-4c08-4f95-d4f9-17dd1c0ada96"
   },
   "outputs": [],
   "source": [
    "# 차량 접수자 중 실제 탑승자\n",
    "df['ride_ratio'] = df['reg_cnt'] / df['ride_cnt'] * 100"
   ]
  },
  {
   "cell_type": "markdown",
   "metadata": {},
   "source": [
    "#### 강수 여부\n",
    "- 강수량이 아닌 강수 여부를 확인하는 Feature 추가"
   ]
  },
  {
   "cell_type": "code",
   "execution_count": 18,
   "metadata": {
    "tags": []
   },
   "outputs": [],
   "source": [
    "# 비가 온날과 오지 않은 날 구분\n",
    "df['rain'] = np.where(df['rain(mm)'] > 0, 1, 0)"
   ]
  },
  {
   "cell_type": "markdown",
   "metadata": {},
   "source": [
    "### (6) NaN 값 제거"
   ]
  },
  {
   "cell_type": "code",
   "execution_count": 19,
   "metadata": {
    "tags": []
   },
   "outputs": [
    {
     "data": {
      "text/plain": [
       "Date                      0\n",
       "vehicle_cnt               0\n",
       "reg_cnt                   0\n",
       "ride_cnt                  0\n",
       "average_wait_time         0\n",
       "average_fare              0\n",
       "average_dist              0\n",
       "temp_max                  0\n",
       "temp_min                  0\n",
       "rain(mm)                  0\n",
       "humidity_max(%)           0\n",
       "humidity_min(%)           0\n",
       "sunshine(MJ/m2)           0\n",
       "month                     0\n",
       "year                      0\n",
       "weekday                   0\n",
       "season                    0\n",
       "week                      0\n",
       "holiday                   0\n",
       "covid_sum                 0\n",
       "week_average_wait_time    0\n",
       "ride_ratio                0\n",
       "rain                      0\n",
       "dtype: int64"
      ]
     },
     "execution_count": 19,
     "metadata": {},
     "output_type": "execute_result"
    }
   ],
   "source": [
    "df.isna().sum()"
   ]
  },
  {
   "cell_type": "markdown",
   "metadata": {
    "tags": []
   },
   "source": [
    "### (7) 가변수화\n",
    "- 모델 학습을 위해 숫자로 변경"
   ]
  },
  {
   "cell_type": "code",
   "execution_count": 20,
   "metadata": {},
   "outputs": [],
   "source": [
    "# # 가변수화\n",
    "# df = pd.get_dummies(df, columns = ['weekday', 'season', 'holiday'], drop_first = True, dtype = int)\n",
    "# df.info()"
   ]
  },
  {
   "cell_type": "markdown",
   "metadata": {
    "id": "_xX5H9wZPuv9"
   },
   "source": [
    "### (8) 전처리 데이터 저장\n"
   ]
  },
  {
   "cell_type": "code",
   "execution_count": 21,
   "metadata": {
    "colab": {
     "base_uri": "https://localhost:8080/"
    },
    "executionInfo": {
     "elapsed": 29,
     "status": "ok",
     "timestamp": 1682643029614,
     "user": {
      "displayName": "한기영",
      "userId": "13049187003176135487"
     },
     "user_tz": -540
    },
    "id": "DAPll27LPltQ",
    "outputId": "3e23dc30-dee4-4609-e194-22e2c9f794a6",
    "tags": []
   },
   "outputs": [
    {
     "data": {
      "text/plain": [
       "['Dataset/preprocess_data.pkl']"
      ]
     },
     "execution_count": 21,
     "metadata": {},
     "output_type": "execute_result"
    }
   ],
   "source": [
    "# 저장\n",
    "joblib.dump(df, 'Dataset/preprocess_data.pkl')"
   ]
  }
 ],
 "metadata": {
  "colab": {
   "collapsed_sections": [
    "VeG-i_RdqhNA",
    "CwSb2GuKuw3B"
   ],
   "provenance": [],
   "toc_visible": true
  },
  "kernelspec": {
   "display_name": "Python 3 (ipykernel)",
   "language": "python",
   "name": "python3"
  },
  "language_info": {
   "codemirror_mode": {
    "name": "ipython",
    "version": 3
   },
   "file_extension": ".py",
   "mimetype": "text/x-python",
   "name": "python",
   "nbconvert_exporter": "python",
   "pygments_lexer": "ipython3",
   "version": "3.11.5"
  }
 },
 "nbformat": 4,
 "nbformat_minor": 4
}
