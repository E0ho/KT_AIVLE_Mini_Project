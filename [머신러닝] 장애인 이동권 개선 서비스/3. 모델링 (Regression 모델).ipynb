{
 "cells": [
  {
   "cell_type": "markdown",
   "metadata": {
    "id": "qsIsGzftJuH9",
    "tags": []
   },
   "source": [
    "# 미니 프로젝트: 장애인 콜택시 대기시간 예측 모델 개발\n",
    "> 일기 예보에 따라 장애인 콜택시 대기 시간을 예측하는 모델을 개발하여 장애인 이동권 개선"
   ]
  },
  {
   "cell_type": "markdown",
   "metadata": {},
   "source": [
    "<img src = \"https://www.sisul.or.kr/open_content/calltaxi/images/visual_img.jpg\"/>"
   ]
  },
  {
   "cell_type": "markdown",
   "metadata": {
    "tags": []
   },
   "source": [
    "## 단계3. 모델링"
   ]
  },
  {
   "cell_type": "code",
   "execution_count": 1,
   "metadata": {
    "executionInfo": {
     "elapsed": 1863,
     "status": "ok",
     "timestamp": 1682643424565,
     "user": {
      "displayName": "한기영",
      "userId": "13049187003176135487"
     },
     "user_tz": -540
    },
    "id": "3rsQerEaELwI",
    "tags": []
   },
   "outputs": [],
   "source": [
    "import pandas as pd\n",
    "import numpy as np\n",
    "import matplotlib.pyplot as plt\n",
    "import seaborn as sns\n",
    "import joblib\n",
    "from sklearn.model_selection import train_test_split, GridSearchCV\n",
    "from sklearn.preprocessing import MinMaxScaler\n",
    "from sklearn.metrics import *"
   ]
  },
  {
   "cell_type": "code",
   "execution_count": 2,
   "metadata": {
    "executionInfo": {
     "elapsed": 877,
     "status": "ok",
     "timestamp": 1682643425437,
     "user": {
      "displayName": "한기영",
      "userId": "13049187003176135487"
     },
     "user_tz": -540
    },
    "id": "FT_JFnclfcQ4",
    "tags": []
   },
   "outputs": [],
   "source": [
    "df = joblib.load('Dataset/preprocess_data2.pkl')"
   ]
  },
  {
   "cell_type": "code",
   "execution_count": 3,
   "metadata": {
    "tags": []
   },
   "outputs": [
    {
     "name": "stdout",
     "output_type": "stream",
     "text": [
      "<class 'pandas.core.frame.DataFrame'>\n",
      "RangeIndex: 2923 entries, 0 to 2922\n",
      "Data columns (total 8 columns):\n",
      " #   Column                  Non-Null Count  Dtype         \n",
      "---  ------                  --------------  -----         \n",
      " 0   Date                    2923 non-null   datetime64[ns]\n",
      " 1   average_wait_time       2923 non-null   float64       \n",
      " 2   weekday                 2923 non-null   category      \n",
      " 3   season                  2923 non-null   category      \n",
      " 4   week                    2923 non-null   int32         \n",
      " 5   holiday                 2923 non-null   object        \n",
      " 6   week_average_wait_time  2923 non-null   float64       \n",
      " 7   ride_ratio              2923 non-null   float64       \n",
      "dtypes: category(2), datetime64[ns](1), float64(3), int32(1), object(1)\n",
      "memory usage: 131.5+ KB\n"
     ]
    }
   ],
   "source": [
    "df.info()"
   ]
  },
  {
   "cell_type": "markdown",
   "metadata": {
    "id": "nOF9fSLQugGf"
   },
   "source": [
    "### (1) 가변수화\n",
    "- 범주형 데이터 수치형 데이터로 변경"
   ]
  },
  {
   "cell_type": "code",
   "execution_count": 4,
   "metadata": {
    "colab": {
     "base_uri": "https://localhost:8080/",
     "height": 661
    },
    "executionInfo": {
     "elapsed": 21,
     "status": "ok",
     "timestamp": 1682643425444,
     "user": {
      "displayName": "한기영",
      "userId": "13049187003176135487"
     },
     "user_tz": -540
    },
    "id": "CZgBC2QSoKc8",
    "outputId": "470a1788-e410-4430-b956-9744b1a0c8a2",
    "tags": []
   },
   "outputs": [],
   "source": [
    "# 가변수화\n",
    "df = pd.get_dummies(df, columns = ['weekday', 'season', 'holiday'], drop_first = True, dtype = int)"
   ]
  },
  {
   "cell_type": "markdown",
   "metadata": {
    "id": "WpJEGpUuuVWm"
   },
   "source": [
    "### (2) 데이터분할"
   ]
  },
  {
   "cell_type": "markdown",
   "metadata": {
    "id": "yRR53accpDHL"
   },
   "source": [
    "#### 1) Feature, Target 분할"
   ]
  },
  {
   "cell_type": "code",
   "execution_count": 5,
   "metadata": {
    "executionInfo": {
     "elapsed": 19,
     "status": "ok",
     "timestamp": 1682643425445,
     "user": {
      "displayName": "한기영",
      "userId": "13049187003176135487"
     },
     "user_tz": -540
    },
    "id": "N-4Msv8VsQ3R",
    "tags": []
   },
   "outputs": [],
   "source": [
    "# X와 y 분리\n",
    "target = 'average_wait_time'\n",
    "\n",
    "X = df.drop(['Date', target], axis=1)\n",
    "y = df.loc[:, target]"
   ]
  },
  {
   "cell_type": "markdown",
   "metadata": {
    "id": "VBwpOKgkf5Am"
   },
   "source": [
    "#### 2) Train, Valid 분할"
   ]
  },
  {
   "cell_type": "code",
   "execution_count": 6,
   "metadata": {
    "executionInfo": {
     "elapsed": 20,
     "status": "ok",
     "timestamp": 1682643425446,
     "user": {
      "displayName": "한기영",
      "userId": "13049187003176135487"
     },
     "user_tz": -540
    },
    "id": "1iHmTnHCgBw5",
    "tags": []
   },
   "outputs": [],
   "source": [
    "X_train, X_valid, y_train, y_valid = train_test_split(X, y, test_size = 91, shuffle = True, random_state=1)"
   ]
  },
  {
   "cell_type": "markdown",
   "metadata": {
    "id": "59bBv0a8heYh"
   },
   "source": [
    "### (3) 정규화 (Scaling)\n",
    "* KNN, SVM 알고리즘을 적용하기 위해서는 스케일링을 해야 합니다."
   ]
  },
  {
   "cell_type": "code",
   "execution_count": 7,
   "metadata": {
    "executionInfo": {
     "elapsed": 20,
     "status": "ok",
     "timestamp": 1682643425446,
     "user": {
      "displayName": "한기영",
      "userId": "13049187003176135487"
     },
     "user_tz": -540
    },
    "id": "RuDcjwhwSo5y",
    "tags": []
   },
   "outputs": [],
   "source": [
    "# MinMaxScaler()\n",
    "from sklearn.preprocessing import MinMaxScaler\n",
    "\n",
    "scaler = MinMaxScaler()\n",
    "scaler.fit(X_train)\n",
    "X_train_n = scaler.transform(X_train)\n",
    "X_valid_n = scaler.transform(X_valid)"
   ]
  },
  {
   "cell_type": "markdown",
   "metadata": {
    "id": "30TsHQqzMSbJ"
   },
   "source": [
    "### (4) 모델링"
   ]
  },
  {
   "cell_type": "code",
   "execution_count": 8,
   "metadata": {},
   "outputs": [],
   "source": [
    "result = {}"
   ]
  },
  {
   "cell_type": "code",
   "execution_count": 9,
   "metadata": {
    "executionInfo": {
     "elapsed": 4,
     "status": "ok",
     "timestamp": 1682643425969,
     "user": {
      "displayName": "한기영",
      "userId": "13049187003176135487"
     },
     "user_tz": -540
    },
    "id": "9NIx9yoHZDyp",
    "tags": []
   },
   "outputs": [],
   "source": [
    "def pred_plot(y_val, pred, date):\n",
    "    plt.figure(figsize = (18,6))\n",
    "    sns.lineplot(x=date, y = y_val.values, label = 'actual value', marker = 'o')\n",
    "    sns.lineplot(x=date, y = pred, label = 'predicted value', marker = 'o')\n",
    "    plt.ylim(0,60)\n",
    "    plt.grid()\n",
    "    plt.show()"
   ]
  },
  {
   "cell_type": "markdown",
   "metadata": {
    "id": "Xb0VvIreaRZF"
   },
   "source": [
    "#### LinearRegression 모델"
   ]
  },
  {
   "cell_type": "code",
   "execution_count": 10,
   "metadata": {
    "colab": {
     "base_uri": "https://localhost:8080/"
    },
    "executionInfo": {
     "elapsed": 4,
     "status": "ok",
     "timestamp": 1682643425969,
     "user": {
      "displayName": "한기영",
      "userId": "13049187003176135487"
     },
     "user_tz": -540
    },
    "id": "dIuWc-NuMZ91",
    "outputId": "dea02564-c2f8-4955-dae6-8ba1bfd09132",
    "tags": []
   },
   "outputs": [
    {
     "name": "stdout",
     "output_type": "stream",
     "text": [
      "MAE: 4.731330515100562\n",
      "MAPE: 0.12508865841508654\n",
      "R2-score: 0.718492044520911\n"
     ]
    }
   ],
   "source": [
    "from sklearn.linear_model import LinearRegression\n",
    "model = LinearRegression()\n",
    "\n",
    "model.fit(X_train, y_train)\n",
    "\n",
    "y_pred = model.predict(X_valid)\n",
    "\n",
    "print(\"MAE:\", mean_absolute_error(y_valid, y_pred))\n",
    "print(\"MAPE:\", mean_absolute_percentage_error(y_valid, y_pred))\n",
    "print(\"R2-score:\", r2_score(y_valid, y_pred))"
   ]
  },
  {
   "cell_type": "code",
   "execution_count": 11,
   "metadata": {
    "colab": {
     "base_uri": "https://localhost:8080/",
     "height": 338
    },
    "executionInfo": {
     "elapsed": 992,
     "status": "ok",
     "timestamp": 1682643426958,
     "user": {
      "displayName": "한기영",
      "userId": "13049187003176135487"
     },
     "user_tz": -540
    },
    "id": "dZWz4v3DMZ7S",
    "outputId": "b3844592-9fc2-4830-bae4-7f3440eef11a"
   },
   "outputs": [],
   "source": [
    "result['LinearRegression'] = r2_score(y_valid, y_pred)"
   ]
  },
  {
   "cell_type": "markdown",
   "metadata": {
    "id": "hthJE54INBFD"
   },
   "source": [
    "#### DecisionTreeRegressor 모델"
   ]
  },
  {
   "cell_type": "code",
   "execution_count": 12,
   "metadata": {
    "colab": {
     "base_uri": "https://localhost:8080/"
    },
    "executionInfo": {
     "elapsed": 6839,
     "status": "ok",
     "timestamp": 1682643433793,
     "user": {
      "displayName": "한기영",
      "userId": "13049187003176135487"
     },
     "user_tz": -540
    },
    "id": "gcnXT_HxNBFD",
    "outputId": "5e4c3dce-efcd-44f7-c0a1-a5df00669006",
    "tags": []
   },
   "outputs": [
    {
     "name": "stdout",
     "output_type": "stream",
     "text": [
      "MAE: 4.98894120933633\n",
      "MAPE: 0.12662365545082863\n",
      "R2-score: 0.6675038843143617\n"
     ]
    }
   ],
   "source": [
    "from sklearn.tree import DecisionTreeRegressor\n",
    "model = DecisionTreeRegressor(max_depth=5)\n",
    "\n",
    "model.fit(X_train, y_train)\n",
    "\n",
    "y_pred = model.predict(X_valid)\n",
    "\n",
    "print(\"MAE:\", mean_absolute_error(y_valid, y_pred))\n",
    "print(\"MAPE:\", mean_absolute_percentage_error(y_valid, y_pred))\n",
    "print(\"R2-score:\", r2_score(y_valid, y_pred))"
   ]
  },
  {
   "cell_type": "code",
   "execution_count": 13,
   "metadata": {},
   "outputs": [],
   "source": [
    "result['DecisionTreeRegressor'] = r2_score(y_valid, y_pred)"
   ]
  },
  {
   "cell_type": "markdown",
   "metadata": {
    "id": "Xc5u-D-yNCJc"
   },
   "source": [
    "#### KNeighborsRegressor 모델"
   ]
  },
  {
   "cell_type": "code",
   "execution_count": 14,
   "metadata": {
    "colab": {
     "base_uri": "https://localhost:8080/"
    },
    "executionInfo": {
     "elapsed": 7531,
     "status": "ok",
     "timestamp": 1682643442738,
     "user": {
      "displayName": "한기영",
      "userId": "13049187003176135487"
     },
     "user_tz": -540
    },
    "id": "JUdCztbFNCJc",
    "outputId": "1cb4bb00-80b2-4647-b319-39f8f6abf810",
    "tags": []
   },
   "outputs": [
    {
     "name": "stdout",
     "output_type": "stream",
     "text": [
      "MAE: 4.925054945054945\n",
      "MAPE: 0.13302647188311792\n",
      "R2-score: 0.7180855588478746\n"
     ]
    }
   ],
   "source": [
    "from sklearn.neighbors import KNeighborsRegressor\n",
    "model = KNeighborsRegressor()\n",
    "\n",
    "model.fit(X_train_n, y_train)\n",
    "\n",
    "y_pred = model.predict(X_valid_n)\n",
    "\n",
    "print(\"MAE:\", mean_absolute_error(y_valid, y_pred))\n",
    "print(\"MAPE:\", mean_absolute_percentage_error(y_valid, y_pred))\n",
    "print(\"R2-score:\", r2_score(y_valid, y_pred))"
   ]
  },
  {
   "cell_type": "code",
   "execution_count": 15,
   "metadata": {},
   "outputs": [],
   "source": [
    "result['KNeighborsRegressor'] = r2_score(y_valid, y_pred)"
   ]
  },
  {
   "cell_type": "markdown",
   "metadata": {
    "id": "eyR5lrnkNC_M"
   },
   "source": [
    "#### RandomForestRegressor 모델"
   ]
  },
  {
   "cell_type": "code",
   "execution_count": 16,
   "metadata": {
    "colab": {
     "base_uri": "https://localhost:8080/"
    },
    "executionInfo": {
     "elapsed": 26449,
     "status": "ok",
     "timestamp": 1682643470487,
     "user": {
      "displayName": "한기영",
      "userId": "13049187003176135487"
     },
     "user_tz": -540
    },
    "id": "GVia2Q5XNC_M",
    "outputId": "b60ec3a2-3038-493f-a5a1-b7f5b6304e78"
   },
   "outputs": [
    {
     "name": "stdout",
     "output_type": "stream",
     "text": [
      "MAE: 4.6317350716201835\n",
      "MAPE: 0.11941659571501172\n",
      "R2-score: 0.6929877236265184\n"
     ]
    }
   ],
   "source": [
    "from sklearn.ensemble  import RandomForestRegressor\n",
    "model = RandomForestRegressor(max_depth=5, n_estimators=100, random_state=1)\n",
    "\n",
    "\n",
    "model.fit(X_train, y_train)\n",
    "\n",
    "y_pred = model.predict(X_valid)\n",
    "\n",
    "print(\"MAE:\", mean_absolute_error(y_valid, y_pred))\n",
    "print(\"MAPE:\", mean_absolute_percentage_error(y_valid, y_pred))\n",
    "print(\"R2-score:\", r2_score(y_valid, y_pred))"
   ]
  },
  {
   "cell_type": "code",
   "execution_count": 17,
   "metadata": {},
   "outputs": [],
   "source": [
    "result['RandomForestRegressor'] = r2_score(y_valid, y_pred)"
   ]
  },
  {
   "cell_type": "markdown",
   "metadata": {},
   "source": [
    "#### XGBRegressor 모델"
   ]
  },
  {
   "cell_type": "code",
   "execution_count": 18,
   "metadata": {
    "tags": []
   },
   "outputs": [
    {
     "name": "stdout",
     "output_type": "stream",
     "text": [
      "MAE: 4.488359489021722\n",
      "MAPE: 0.11582682400892243\n",
      "R2-score: 0.7326030140572657\n"
     ]
    }
   ],
   "source": [
    "from xgboost import XGBRegressor\n",
    "model = XGBRegressor(max_depth=5, n_estimators=100, random_state=1)\n",
    "\n",
    "model.fit(X_train, y_train)\n",
    "\n",
    "y_pred = model.predict(X_valid)\n",
    "\n",
    "print(\"MAE:\", mean_absolute_error(y_valid, y_pred))\n",
    "print(\"MAPE:\", mean_absolute_percentage_error(y_valid, y_pred))\n",
    "print(\"R2-score:\", r2_score(y_valid, y_pred))"
   ]
  },
  {
   "cell_type": "code",
   "execution_count": 19,
   "metadata": {},
   "outputs": [],
   "source": [
    "result['XGBRegressor'] = r2_score(y_valid, y_pred)"
   ]
  },
  {
   "cell_type": "markdown",
   "metadata": {},
   "source": [
    "#### LGBMRegressor 모델"
   ]
  },
  {
   "cell_type": "code",
   "execution_count": 20,
   "metadata": {
    "tags": []
   },
   "outputs": [
    {
     "name": "stdout",
     "output_type": "stream",
     "text": [
      "MAE: 4.1947627301141\n",
      "MAPE: 0.10897537419302979\n",
      "R2-score: 0.7563618121416789\n"
     ]
    }
   ],
   "source": [
    "from lightgbm import LGBMRegressor\n",
    "model = LGBMRegressor(max_depth=5, n_estimators=100, random_state=1,verbose=-1)\n",
    "\n",
    "model.fit(X_train, y_train)\n",
    "\n",
    "y_pred = model.predict(X_valid)\n",
    "\n",
    "print(\"MAE:\", mean_absolute_error(y_valid, y_pred))\n",
    "print(\"MAPE:\", mean_absolute_percentage_error(y_valid, y_pred))\n",
    "print(\"R2-score:\", r2_score(y_valid, y_pred))"
   ]
  },
  {
   "cell_type": "code",
   "execution_count": 21,
   "metadata": {},
   "outputs": [],
   "source": [
    "result['LGBMRegressor'] = r2_score(y_valid, y_pred)"
   ]
  },
  {
   "cell_type": "markdown",
   "metadata": {
    "id": "Ik2DNmAC0Zzd"
   },
   "source": [
    "### (5) 모델별 비교\n"
   ]
  },
  {
   "cell_type": "code",
   "execution_count": 22,
   "metadata": {
    "executionInfo": {
     "elapsed": 19,
     "status": "ok",
     "timestamp": 1682643538243,
     "user": {
      "displayName": "한기영",
      "userId": "13049187003176135487"
     },
     "user_tz": -540
    },
    "id": "431fKlaTeCWg"
   },
   "outputs": [
    {
     "data": {
      "text/plain": [
       "{'LinearRegression': 0.718492044520911,\n",
       " 'DecisionTreeRegressor': 0.6675038843143617,\n",
       " 'KNeighborsRegressor': 0.7180855588478746,\n",
       " 'RandomForestRegressor': 0.6929877236265184,\n",
       " 'XGBRegressor': 0.7326030140572657,\n",
       " 'LGBMRegressor': 0.7563618121416789}"
      ]
     },
     "execution_count": 22,
     "metadata": {},
     "output_type": "execute_result"
    }
   ],
   "source": [
    "result"
   ]
  },
  {
   "cell_type": "code",
   "execution_count": 23,
   "metadata": {},
   "outputs": [
    {
     "data": {
      "image/png": "[encoded data removed]",
      "text/plain": [
       "<Figure size 1000x600 with 1 Axes>"
      ]
     },
     "metadata": {},
     "output_type": "display_data"
    }
   ],
   "source": [
    "# 딕셔너리를 데이터프레임으로 변환\n",
    "df = pd.DataFrame(list(result.items()), columns=['Model', 'Score'])\n",
    "\n",
    "# 막대 그래프로 시각화\n",
    "plt.figure(figsize=(10, 6))\n",
    "sns.barplot(x='Score', y='Model', data=df, palette='viridis')\n",
    "plt.xlabel('Score')\n",
    "plt.ylabel('Model')\n",
    "plt.title('Model Performance Scores')\n",
    "plt.show()"
   ]
  }
 ],
 "metadata": {
  "accelerator": "GPU",
  "colab": {
   "provenance": [
    {
     "file_id": "1rAhFiA-Ujmt8relY5oG0amSLXnIVJ7Fu",
     "timestamp": 1676287923203
    }
   ],
   "toc_visible": true
  },
  "gpuClass": "standard",
  "kernelspec": {
   "display_name": "Python 3 (ipykernel)",
   "language": "python",
   "name": "python3"
  },
  "language_info": {
   "codemirror_mode": {
    "name": "ipython",
    "version": 3
   },
   "file_extension": ".py",
   "mimetype": "text/x-python",
   "name": "python",
   "nbconvert_exporter": "python",
   "pygments_lexer": "ipython3",
   "version": "3.11.5"
  }
 },
 "nbformat": 4,
 "nbformat_minor": 4
}
